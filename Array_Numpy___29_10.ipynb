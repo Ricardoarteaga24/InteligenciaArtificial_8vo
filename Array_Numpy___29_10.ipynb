{
  "nbformat": 4,
  "nbformat_minor": 0,
  "metadata": {
    "colab": {
      "provenance": [],
      "authorship_tag": "ABX9TyPlsmDW0zxQgpJvik0yMNRU",
      "include_colab_link": true
    },
    "kernelspec": {
      "name": "python3",
      "display_name": "Python 3"
    },
    "language_info": {
      "name": "python"
    }
  },
  "cells": [
    {
      "cell_type": "markdown",
      "metadata": {
        "id": "view-in-github",
        "colab_type": "text"
      },
      "source": [
        "<a href=\"https://colab.research.google.com/github/Ricardoarteaga24/InteligenciaArtificial_8vo/blob/main/Array_Numpy___29_10.ipynb\" target=\"_parent\"><img src=\"https://colab.research.google.com/assets/colab-badge.svg\" alt=\"Open In Colab\"/></a>"
      ]
    },
    {
      "cell_type": "markdown",
      "source": [
        "**LIBRERIA NUMPY**"
      ],
      "metadata": {
        "id": "4zPbKZEtgZWh"
      }
    },
    {
      "cell_type": "code",
      "execution_count": 2,
      "metadata": {
        "id": "_1wG6Jsqfe0W"
      },
      "outputs": [],
      "source": [
        "#importar libreria\n",
        "import numpy as np"
      ]
    },
    {
      "cell_type": "code",
      "source": [
        "print(np.__version__)"
      ],
      "metadata": {
        "colab": {
          "base_uri": "https://localhost:8080/"
        },
        "id": "K_-u_2xJhMmK",
        "outputId": "949d86ed-37ac-42b3-87c1-af6dc2359756"
      },
      "execution_count": 4,
      "outputs": [
        {
          "output_type": "stream",
          "name": "stdout",
          "text": [
            "1.26.4\n"
          ]
        }
      ]
    },
    {
      "cell_type": "code",
      "source": [
        "#crea array\n",
        "myArray = np.array([1,2,3,4,5])\n",
        "print(myArray)"
      ],
      "metadata": {
        "colab": {
          "base_uri": "https://localhost:8080/"
        },
        "id": "TazICEZIhk8j",
        "outputId": "9ea390a2-e808-49b7-f63e-9a18cecf8af5"
      },
      "execution_count": 5,
      "outputs": [
        {
          "output_type": "stream",
          "name": "stdout",
          "text": [
            "[1 2 3 4 5]\n"
          ]
        }
      ]
    },
    {
      "cell_type": "code",
      "source": [
        "#verifica que tipo es\n",
        "print(type(myArray))"
      ],
      "metadata": {
        "colab": {
          "base_uri": "https://localhost:8080/"
        },
        "id": "J7mpjn2uh1lC",
        "outputId": "9948b945-510a-4469-e7b3-8834e5332a38"
      },
      "execution_count": 6,
      "outputs": [
        {
          "output_type": "stream",
          "name": "stdout",
          "text": [
            "<class 'numpy.ndarray'>\n"
          ]
        }
      ]
    },
    {
      "cell_type": "code",
      "source": [
        "print(myArray.shape)"
      ],
      "metadata": {
        "colab": {
          "base_uri": "https://localhost:8080/"
        },
        "id": "9DGsCWApiBOI",
        "outputId": "be524196-0250-4623-cdb0-a6eee4da679a"
      },
      "execution_count": 7,
      "outputs": [
        {
          "output_type": "stream",
          "name": "stdout",
          "text": [
            "(5,)\n"
          ]
        }
      ]
    },
    {
      "cell_type": "code",
      "source": [
        "#imprimir valores\n",
        "print(myArray.shape)\n",
        "print(myArray[2])\n",
        "myArray[2] = 10\n",
        "print(myArray)"
      ],
      "metadata": {
        "colab": {
          "base_uri": "https://localhost:8080/"
        },
        "id": "0tMmNsN7iZbJ",
        "outputId": "82959d6b-8ee4-4077-a982-794343b6871a"
      },
      "execution_count": 9,
      "outputs": [
        {
          "output_type": "stream",
          "name": "stdout",
          "text": [
            "(5,)\n",
            "3\n",
            "[ 1  2 10  4  5]\n"
          ]
        }
      ]
    },
    {
      "cell_type": "markdown",
      "source": [
        "**Rango 2 **"
      ],
      "metadata": {
        "id": "YfcK160Yiszo"
      }
    },
    {
      "cell_type": "code",
      "source": [
        "myarray1 = np.array([[1,2,3],[4,5,6]])\n",
        "print(myarray1)\n",
        "print(myarray1.shape)"
      ],
      "metadata": {
        "colab": {
          "base_uri": "https://localhost:8080/"
        },
        "id": "M9eaYsxriyVB",
        "outputId": "860acbbc-d5ff-4d4c-8545-7112d1878d7e"
      },
      "execution_count": 10,
      "outputs": [
        {
          "output_type": "stream",
          "name": "stdout",
          "text": [
            "[[1 2 3]\n",
            " [4 5 6]]\n",
            "(2, 3)\n"
          ]
        }
      ]
    },
    {
      "cell_type": "code",
      "source": [
        "myarray3=np.zeros((5,5))\n",
        "print(myarray3)"
      ],
      "metadata": {
        "colab": {
          "base_uri": "https://localhost:8080/"
        },
        "id": "15BJ91ZDjBjq",
        "outputId": "7adfa052-cd88-40fe-b158-b95c80a9bf12"
      },
      "execution_count": 11,
      "outputs": [
        {
          "output_type": "stream",
          "name": "stdout",
          "text": [
            "[[0. 0. 0. 0. 0.]\n",
            " [0. 0. 0. 0. 0.]\n",
            " [0. 0. 0. 0. 0.]\n",
            " [0. 0. 0. 0. 0.]\n",
            " [0. 0. 0. 0. 0.]]\n"
          ]
        }
      ]
    },
    {
      "cell_type": "code",
      "source": [
        "myarray4=np.full((3,6),10)\n",
        "print(myarray4)\n",
        "myarray5=np.eye(5)\n",
        "print(myarray5)\n",
        "myarray6=np.ones((5,5))\n",
        "print(myarray6)"
      ],
      "metadata": {
        "colab": {
          "base_uri": "https://localhost:8080/"
        },
        "id": "Reb8uV51jXsK",
        "outputId": "711f4a24-cadb-432d-c015-2eb91947fa26"
      },
      "execution_count": 14,
      "outputs": [
        {
          "output_type": "stream",
          "name": "stdout",
          "text": [
            "[[10 10 10 10 10 10]\n",
            " [10 10 10 10 10 10]\n",
            " [10 10 10 10 10 10]]\n",
            "[[1. 0. 0. 0. 0.]\n",
            " [0. 1. 0. 0. 0.]\n",
            " [0. 0. 1. 0. 0.]\n",
            " [0. 0. 0. 1. 0.]\n",
            " [0. 0. 0. 0. 1.]]\n",
            "[[1. 1. 1. 1. 1.]\n",
            " [1. 1. 1. 1. 1.]\n",
            " [1. 1. 1. 1. 1.]\n",
            " [1. 1. 1. 1. 1.]\n",
            " [1. 1. 1. 1. 1.]]\n"
          ]
        }
      ]
    },
    {
      "cell_type": "code",
      "source": [
        "myarray7=np.random.random((5,5))\n",
        "print(myarray7)"
      ],
      "metadata": {
        "colab": {
          "base_uri": "https://localhost:8080/"
        },
        "id": "VJlRzfisj1jR",
        "outputId": "c54eb92e-1ad6-4ed7-db15-7b427099735f"
      },
      "execution_count": 15,
      "outputs": [
        {
          "output_type": "stream",
          "name": "stdout",
          "text": [
            "[[0.08845347 0.33936175 0.10553985 0.75352809 0.73757497]\n",
            " [0.73845049 0.6196295  0.28527747 0.82244166 0.72671996]\n",
            " [0.6863105  0.37389522 0.320163   0.66227454 0.64487985]\n",
            " [0.42993583 0.9444679  0.01498862 0.60199323 0.51429333]\n",
            " [0.35095761 0.67505299 0.16338879 0.5131845  0.45518392]]\n"
          ]
        }
      ]
    },
    {
      "cell_type": "code",
      "source": [
        "myarray8=np.random.randint(100,size=(5,5))\n",
        "print(myarray8)"
      ],
      "metadata": {
        "colab": {
          "base_uri": "https://localhost:8080/"
        },
        "id": "tNcBS_yskPVt",
        "outputId": "0be44d80-ff55-4d46-82be-e8159db49846"
      },
      "execution_count": 20,
      "outputs": [
        {
          "output_type": "stream",
          "name": "stdout",
          "text": [
            "[[24 44  3 46 73]\n",
            " [37 48 22 11 67]\n",
            " [46 15 62 42 60]\n",
            " [16 83 88 26 23]\n",
            " [44 42 53 86 41]]\n"
          ]
        }
      ]
    },
    {
      "cell_type": "code",
      "source": [
        "newMatrix=myarray8[:2,:2]\n",
        "print(newMatrix)"
      ],
      "metadata": {
        "colab": {
          "base_uri": "https://localhost:8080/"
        },
        "id": "cNKnlv7Gkvqp",
        "outputId": "5e7ab340-051b-47f7-aaef-352af13c8b5d"
      },
      "execution_count": 19,
      "outputs": [
        {
          "output_type": "stream",
          "name": "stdout",
          "text": [
            "[[53 11]\n",
            " [23 51]]\n"
          ]
        }
      ]
    },
    {
      "cell_type": "code",
      "source": [
        "newMatrix=myarray8[:2,:2]\n",
        "print(newMatrix)"
      ],
      "metadata": {
        "colab": {
          "base_uri": "https://localhost:8080/"
        },
        "id": "BdLw7KdzlOVn",
        "outputId": "0bb74fb2-474a-4486-e525-23e0276848b8"
      },
      "execution_count": 23,
      "outputs": [
        {
          "output_type": "stream",
          "name": "stdout",
          "text": [
            "[[24 44]\n",
            " [37 48]]\n"
          ]
        }
      ]
    },
    {
      "cell_type": "code",
      "source": [
        "myarray8[2,2]=10000\n",
        "print(myarray8)"
      ],
      "metadata": {
        "colab": {
          "base_uri": "https://localhost:8080/"
        },
        "id": "4qmFWIDnldlI",
        "outputId": "7f484cf3-176a-4a3e-c843-c9646e0097c6"
      },
      "execution_count": 25,
      "outputs": [
        {
          "output_type": "stream",
          "name": "stdout",
          "text": [
            "[[   24    44     3    46    73]\n",
            " [   37    48    22    11    67]\n",
            " [   46    15 10000    42    60]\n",
            " [   16    83    88    26    23]\n",
            " [   44    42    53    86    41]]\n"
          ]
        }
      ]
    },
    {
      "cell_type": "code",
      "source": [
        "print(myarray8[2,:])"
      ],
      "metadata": {
        "colab": {
          "base_uri": "https://localhost:8080/"
        },
        "id": "4D8sIAbll15X",
        "outputId": "a11d8518-550b-4856-d77e-af8dab4bb5fc"
      },
      "execution_count": 26,
      "outputs": [
        {
          "output_type": "stream",
          "name": "stdout",
          "text": [
            "[   46    15 10000    42    60]\n"
          ]
        }
      ]
    },
    {
      "cell_type": "code",
      "source": [
        "print(myarray8[:,2].shape)\n"
      ],
      "metadata": {
        "colab": {
          "base_uri": "https://localhost:8080/"
        },
        "id": "8YrS_Afbl-tn",
        "outputId": "7735d551-040e-4914-a5a7-560dc7dda4c1"
      },
      "execution_count": 29,
      "outputs": [
        {
          "output_type": "stream",
          "name": "stdout",
          "text": [
            "(5,)\n"
          ]
        }
      ]
    },
    {
      "cell_type": "code",
      "source": [
        "newMatrix=myarray8[1:4:,1:4]\n",
        "print(newMatrix)"
      ],
      "metadata": {
        "colab": {
          "base_uri": "https://localhost:8080/"
        },
        "id": "BjKZbTG-mRMZ",
        "outputId": "b00505d6-d3a0-4208-eacc-a0b11f4a6834"
      },
      "execution_count": 35,
      "outputs": [
        {
          "output_type": "stream",
          "name": "stdout",
          "text": [
            "[[   48    22    11]\n",
            " [   15 10000    42]\n",
            " [   83    88    26]]\n"
          ]
        }
      ]
    }
  ]
}