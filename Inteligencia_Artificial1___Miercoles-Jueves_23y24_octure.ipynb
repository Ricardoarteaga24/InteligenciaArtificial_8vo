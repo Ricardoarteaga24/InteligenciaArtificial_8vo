{
  "nbformat": 4,
  "nbformat_minor": 0,
  "metadata": {
    "colab": {
      "provenance": [],
      "authorship_tag": "ABX9TyMz8DH8w/SmdPYS70+vre0W",
      "include_colab_link": true
    },
    "kernelspec": {
      "name": "python3",
      "display_name": "Python 3"
    },
    "language_info": {
      "name": "python"
    }
  },
  "cells": [
    {
      "cell_type": "markdown",
      "metadata": {
        "id": "view-in-github",
        "colab_type": "text"
      },
      "source": [
        "<a href=\"https://colab.research.google.com/github/Ricardoarteaga24/InteligenciaArtificial_8vo/blob/main/Inteligencia_Artificial1___Miercoles-Jueves_23y24_octure.ipynb\" target=\"_parent\"><img src=\"https://colab.research.google.com/assets/colab-badge.svg\" alt=\"Open In Colab\"/></a>"
      ]
    },
    {
      "cell_type": "code",
      "source": [
        "# prompt: consultar la version de python\n",
        "\n",
        "import sys\n",
        "sys.version"
      ],
      "metadata": {
        "colab": {
          "base_uri": "https://localhost:8080/",
          "height": 35
        },
        "id": "puxfjo9Pr1tV",
        "outputId": "dc16859f-0b8e-4651-a348-c3d37402409c"
      },
      "execution_count": null,
      "outputs": [
        {
          "output_type": "execute_result",
          "data": {
            "text/plain": [
              "'3.10.12 (main, Sep 11 2024, 15:47:36) [GCC 11.4.0]'"
            ],
            "application/vnd.google.colaboratory.intrinsic+json": {
              "type": "string"
            }
          },
          "metadata": {},
          "execution_count": 3
        }
      ]
    },
    {
      "cell_type": "code",
      "source": [
        "numero=10\n",
        "tmp1=\"Ricardo Arteaga\"\n",
        "print(numero)\n",
        "print(f\"Mi nombre es {tmp1}\")\n",
        "print(numero+10)\n",
        "print(numero-10)\n",
        "print(numero*10)\n",
        "print(numero/10)\n",
        "print(numero%10)\n",
        "print(numero**2)\n",
        "# otra forma de realizar operaciones\n",
        "numero*=2\n",
        "print(numero)\n",
        "#funciones de ver que tipo de variables tenemos\n",
        "print(type(numero))\n",
        "print(type(tmp1))"
      ],
      "metadata": {
        "colab": {
          "base_uri": "https://localhost:8080/"
        },
        "id": "M8gUuc1hsb5e",
        "outputId": "12899c7b-6c10-4659-ba64-4c278d1662aa"
      },
      "execution_count": null,
      "outputs": [
        {
          "output_type": "stream",
          "name": "stdout",
          "text": [
            "10\n",
            "Mi nombre es Ricardo Arteaga\n",
            "20\n",
            "0\n",
            "100\n",
            "1.0\n",
            "0\n",
            "100\n",
            "20\n",
            "<class 'int'>\n",
            "<class 'str'>\n"
          ]
        }
      ]
    },
    {
      "cell_type": "markdown",
      "source": [
        "Boleanos"
      ],
      "metadata": {
        "id": "_qfL2579weRG"
      }
    },
    {
      "cell_type": "code",
      "source": [
        "#boleanos\n",
        "t=True\n",
        "f=False\n",
        "print(type(t))\n",
        "print(t and f)\n",
        "print(t or f)\n",
        "print(not t)\n",
        "print(t!=f)"
      ],
      "metadata": {
        "colab": {
          "base_uri": "https://localhost:8080/"
        },
        "id": "Y5BpAavztcmH",
        "outputId": "2d44eff9-b33a-475b-bd54-79228a5f696a"
      },
      "execution_count": null,
      "outputs": [
        {
          "output_type": "stream",
          "name": "stdout",
          "text": [
            "<class 'bool'>\n",
            "False\n",
            "True\n",
            "False\n",
            "True\n"
          ]
        }
      ]
    },
    {
      "cell_type": "markdown",
      "source": [
        "cadena de caracteres"
      ],
      "metadata": {
        "id": "4Ku7r9GJwgMW"
      }
    },
    {
      "cell_type": "code",
      "source": [
        "aux1=\"Hola\"\n",
        "aux2=\"Mundo\"\n",
        "aux3= \"RICARDO\"\n",
        "print(aux1+aux2)\n",
        "print(aux1*2)\n",
        "print(aux1.capitalize())\n",
        "print(aux1.upper())\n",
        "print(aux3.lower())\n",
        "# print(aux1.replace(\"H\",\"J\"\n"
      ],
      "metadata": {
        "colab": {
          "base_uri": "https://localhost:8080/"
        },
        "id": "WiNCYqhRwiej",
        "outputId": "56c3b964-7999-4262-d250-73790f022772"
      },
      "execution_count": null,
      "outputs": [
        {
          "output_type": "stream",
          "name": "stdout",
          "text": [
            "HolaMundo\n",
            "HolaHola\n",
            "Hola\n",
            "HOLA\n",
            "ricardo\n"
          ]
        }
      ]
    },
    {
      "cell_type": "markdown",
      "source": [
        "Contenedores"
      ],
      "metadata": {
        "id": "05FlTMeExxed"
      }
    },
    {
      "cell_type": "code",
      "source": [
        "# Lista\n",
        "aux2=list()\n",
        "aux2.append(10)\n",
        "aux2.append(\"Ricardo\")\n",
        "aux2.append(True)\n",
        "print(aux2)\n",
        "#Extraer elemento\n",
        "print(aux2[1])\n",
        "#Extraer ultimo elemento\n",
        "print(aux2[-1])\n",
        "#cambiar dato\n",
        "\n",
        "aux2[1]=\"Arteaga\"\n",
        "print(aux2)\n",
        "\n",
        "#otra forma de crear lista\n",
        "aux3=[1,2,3,'Victor',True,False]\n",
        "print(aux3)\n",
        "aux3.pop()\n",
        "print(aux3)\n"
      ],
      "metadata": {
        "colab": {
          "base_uri": "https://localhost:8080/"
        },
        "id": "5w9B_C7Fxzvw",
        "outputId": "ae86a36b-3fdf-4b17-a371-7a4f018f33b7"
      },
      "execution_count": null,
      "outputs": [
        {
          "output_type": "stream",
          "name": "stdout",
          "text": [
            "[10, 'Ricardo', True]\n",
            "Ricardo\n",
            "True\n",
            "[10, 'Arteaga', True]\n",
            "[1, 2, 3, 'Victor', True, False]\n",
            "[1, 2, 3, 'Victor', True]\n"
          ]
        }
      ]
    },
    {
      "cell_type": "markdown",
      "source": [
        "rango de listas"
      ],
      "metadata": {
        "id": "UoZmRwVo07Kk"
      }
    },
    {
      "cell_type": "code",
      "source": [
        "tmp1=list(range(100))\n",
        "for x in tmp1:\n",
        "    print(f\"el valor es\",x)"
      ],
      "metadata": {
        "colab": {
          "base_uri": "https://localhost:8080/"
        },
        "id": "MxIeMQ410Z5A",
        "outputId": "91529181-2afd-4586-ed28-5622b5fc337b"
      },
      "execution_count": null,
      "outputs": [
        {
          "output_type": "stream",
          "name": "stdout",
          "text": [
            "el valor es 0\n",
            "el valor es 1\n",
            "el valor es 2\n",
            "el valor es 3\n",
            "el valor es 4\n",
            "el valor es 5\n",
            "el valor es 6\n",
            "el valor es 7\n",
            "el valor es 8\n",
            "el valor es 9\n",
            "el valor es 10\n",
            "el valor es 11\n",
            "el valor es 12\n",
            "el valor es 13\n",
            "el valor es 14\n",
            "el valor es 15\n",
            "el valor es 16\n",
            "el valor es 17\n",
            "el valor es 18\n",
            "el valor es 19\n",
            "el valor es 20\n",
            "el valor es 21\n",
            "el valor es 22\n",
            "el valor es 23\n",
            "el valor es 24\n",
            "el valor es 25\n",
            "el valor es 26\n",
            "el valor es 27\n",
            "el valor es 28\n",
            "el valor es 29\n",
            "el valor es 30\n",
            "el valor es 31\n",
            "el valor es 32\n",
            "el valor es 33\n",
            "el valor es 34\n",
            "el valor es 35\n",
            "el valor es 36\n",
            "el valor es 37\n",
            "el valor es 38\n",
            "el valor es 39\n",
            "el valor es 40\n",
            "el valor es 41\n",
            "el valor es 42\n",
            "el valor es 43\n",
            "el valor es 44\n",
            "el valor es 45\n",
            "el valor es 46\n",
            "el valor es 47\n",
            "el valor es 48\n",
            "el valor es 49\n",
            "el valor es 50\n",
            "el valor es 51\n",
            "el valor es 52\n",
            "el valor es 53\n",
            "el valor es 54\n",
            "el valor es 55\n",
            "el valor es 56\n",
            "el valor es 57\n",
            "el valor es 58\n",
            "el valor es 59\n",
            "el valor es 60\n",
            "el valor es 61\n",
            "el valor es 62\n",
            "el valor es 63\n",
            "el valor es 64\n",
            "el valor es 65\n",
            "el valor es 66\n",
            "el valor es 67\n",
            "el valor es 68\n",
            "el valor es 69\n",
            "el valor es 70\n",
            "el valor es 71\n",
            "el valor es 72\n",
            "el valor es 73\n",
            "el valor es 74\n",
            "el valor es 75\n",
            "el valor es 76\n",
            "el valor es 77\n",
            "el valor es 78\n",
            "el valor es 79\n",
            "el valor es 80\n",
            "el valor es 81\n",
            "el valor es 82\n",
            "el valor es 83\n",
            "el valor es 84\n",
            "el valor es 85\n",
            "el valor es 86\n",
            "el valor es 87\n",
            "el valor es 88\n",
            "el valor es 89\n",
            "el valor es 90\n",
            "el valor es 91\n",
            "el valor es 92\n",
            "el valor es 93\n",
            "el valor es 94\n",
            "el valor es 95\n",
            "el valor es 96\n",
            "el valor es 97\n",
            "el valor es 98\n",
            "el valor es 99\n"
          ]
        }
      ]
    },
    {
      "cell_type": "code",
      "source": [],
      "metadata": {
        "id": "Z2MGFR8R8uws"
      },
      "execution_count": null,
      "outputs": []
    },
    {
      "cell_type": "markdown",
      "source": [
        "**Clase de jueves 24 de octubre-Continuacion **\n",
        "\n"
      ],
      "metadata": {
        "id": "iXtMXfRzxXad"
      }
    },
    {
      "cell_type": "code",
      "source": [
        "listaAnimales=list()\n",
        "listaAnimales.append(\"Gato\")\n",
        "listaAnimales.append(\"Perro\")\n",
        "listaAnimales.append(\"Conejo\")\n",
        "listaAnimales.append(\"Caballo\")\n",
        "listaAnimales.append(\"Vaca\")\n",
        "print(listaAnimales)\n",
        "tmp1=listaAnimales[:3]\n",
        "print(tmp1)\n",
        "print(\"Animales %s\"%(tmp1))\n",
        "\n",
        "\n",
        "\n",
        "tmp2=listaAnimales[2:]\n",
        "print(\"Animales %s\"%(tmp2))\n",
        "\n",
        "\n",
        "tmp3=listaAnimales[2:4]\n",
        "print(\"Animales %s\"%(tmp3))\n",
        "\n",
        "#reemplazar o actualizar\n",
        "\n",
        "listaAnimales[2:4]=[\"leon\",\"tigre\"]\n",
        "print(listaAnimales)"
      ],
      "metadata": {
        "id": "dTgayJJUxWBF",
        "outputId": "50346797-522d-477b-a645-d1e56245ed4c",
        "colab": {
          "base_uri": "https://localhost:8080/"
        }
      },
      "execution_count": 6,
      "outputs": [
        {
          "output_type": "stream",
          "name": "stdout",
          "text": [
            "['Gato', 'Perro', 'Conejo', 'Caballo', 'Vaca']\n",
            "['Gato', 'Perro', 'Conejo']\n",
            "Animales ['Gato', 'Perro', 'Conejo']\n",
            "Animales ['Conejo', 'Caballo', 'Vaca']\n",
            "Animales ['Conejo', 'Caballo']\n",
            "['Gato', 'Perro', 'leon', 'tigre', 'Vaca']\n"
          ]
        }
      ]
    },
    {
      "cell_type": "markdown",
      "source": [
        "Enumeracion"
      ],
      "metadata": {
        "id": "k6_IOHS-zubU"
      }
    },
    {
      "cell_type": "code",
      "source": [
        "for numero,animal in enumerate(listaAnimales):\n",
        "  print('%d: %s'%(numero+1,animal))\n",
        ""
      ],
      "metadata": {
        "id": "2uvXldtPyLHf",
        "outputId": "ab8a3699-9b12-4b63-f38d-9c7e03568b1f",
        "colab": {
          "base_uri": "https://localhost:8080/"
        }
      },
      "execution_count": 8,
      "outputs": [
        {
          "output_type": "stream",
          "name": "stdout",
          "text": [
            "1: Gato\n",
            "2: Perro\n",
            "3: leon\n",
            "4: tigre\n",
            "5: Vaca\n"
          ]
        }
      ]
    },
    {
      "cell_type": "code",
      "source": [
        "listanumero=list(range(50))\n",
        "print(listanumero)\n",
        "lista_cuadrados=[x**2 for x in listanumero]\n",
        "print(lista_cuadrados)"
      ],
      "metadata": {
        "id": "WCFXamKu0smm",
        "outputId": "ac69cc9e-1218-4383-ba99-eca7c3b91119",
        "colab": {
          "base_uri": "https://localhost:8080/"
        }
      },
      "execution_count": 14,
      "outputs": [
        {
          "output_type": "stream",
          "name": "stdout",
          "text": [
            "[0, 1, 2, 3, 4, 5, 6, 7, 8, 9, 10, 11, 12, 13, 14, 15, 16, 17, 18, 19, 20, 21, 22, 23, 24, 25, 26, 27, 28, 29, 30, 31, 32, 33, 34, 35, 36, 37, 38, 39, 40, 41, 42, 43, 44, 45, 46, 47, 48, 49]\n",
            "[0, 1, 4, 9, 16, 25, 36, 49, 64, 81, 100, 121, 144, 169, 196, 225, 256, 289, 324, 361, 400, 441, 484, 529, 576, 625, 676, 729, 784, 841, 900, 961, 1024, 1089, 1156, 1225, 1296, 1369, 1444, 1521, 1600, 1681, 1764, 1849, 1936, 2025, 2116, 2209, 2304, 2401]\n"
          ]
        }
      ]
    },
    {
      "cell_type": "code",
      "source": [
        "listanum=list(range(20))\n",
        "print(listanum)\n",
        "listanum2=list()\n",
        "for numero in listanum:\n",
        "  if numero%2==0:\n",
        "    listanum2.append(numero**2)\n",
        "print(listanum2)"
      ],
      "metadata": {
        "id": "hNPS4PqQ1kQi",
        "outputId": "2edd4d59-fc59-4c97-f067-5f1f41241891",
        "colab": {
          "base_uri": "https://localhost:8080/"
        }
      },
      "execution_count": 18,
      "outputs": [
        {
          "output_type": "stream",
          "name": "stdout",
          "text": [
            "[0, 1, 2, 3, 4, 5, 6, 7, 8, 9, 10, 11, 12, 13, 14, 15, 16, 17, 18, 19]\n",
            "[0, 4, 16, 36, 64, 100, 144, 196, 256, 324]\n"
          ]
        }
      ]
    },
    {
      "cell_type": "code",
      "source": [
        "listcuadrado=[i**2 for i in listanum]\n",
        "print(listcuadrado)"
      ],
      "metadata": {
        "id": "jf33YkMV2DbK",
        "outputId": "6c29a8c3-0de5-41ec-9a35-791437ec5ae2",
        "colab": {
          "base_uri": "https://localhost:8080/"
        }
      },
      "execution_count": 20,
      "outputs": [
        {
          "output_type": "stream",
          "name": "stdout",
          "text": [
            "[0, 1, 4, 9, 16, 25, 36, 49, 64, 81, 100, 121, 144, 169, 196, 225, 256, 289, 324, 361]\n"
          ]
        }
      ]
    },
    {
      "cell_type": "code",
      "source": [
        "listimpar=[x for x in listanum  if x%2==1]\n",
        "print(listimpar)\n"
      ],
      "metadata": {
        "id": "CeNeVnqL2Xth",
        "outputId": "4bdb2487-c5f6-4a3e-fd00-5835133fa607",
        "colab": {
          "base_uri": "https://localhost:8080/"
        }
      },
      "execution_count": 21,
      "outputs": [
        {
          "output_type": "stream",
          "name": "stdout",
          "text": [
            "[1, 3, 5, 7, 9, 11, 13, 15, 17, 19]\n"
          ]
        }
      ]
    },
    {
      "cell_type": "code",
      "source": [
        "listimpar=[x for x in listanum  if x%2==0]\n",
        "print(listimpar)"
      ],
      "metadata": {
        "id": "vEJXo9gX3Bj0",
        "outputId": "f108a7ff-36fe-47ed-e517-b65e90ccb192",
        "colab": {
          "base_uri": "https://localhost:8080/"
        }
      },
      "execution_count": 22,
      "outputs": [
        {
          "output_type": "stream",
          "name": "stdout",
          "text": [
            "[0, 2, 4, 6, 8, 10, 12, 14, 16, 18]\n"
          ]
        }
      ]
    },
    {
      "cell_type": "markdown",
      "source": [
        "Contenedor **diccionario**"
      ],
      "metadata": {
        "id": "UkrXBbdm3nc7"
      }
    },
    {
      "cell_type": "code",
      "source": [
        "midiccionario={'perro':'bonito', 'gato':'feo', }\n",
        "print(midiccionario)"
      ],
      "metadata": {
        "id": "X-p4pUx43q1B",
        "outputId": "a390382c-98f0-4f96-968a-2469a537019e",
        "colab": {
          "base_uri": "https://localhost:8080/"
        }
      },
      "execution_count": 26,
      "outputs": [
        {
          "output_type": "stream",
          "name": "stdout",
          "text": [
            "{'perro': 'bonito', 'gato': 'feo'}\n"
          ]
        }
      ]
    },
    {
      "cell_type": "code",
      "source": [
        "for key in midiccionario:\n",
        "  print(midiccionario[key])"
      ],
      "metadata": {
        "id": "A-1MT3Nb4E1y",
        "outputId": "dc6eedc5-8d26-4afb-cb62-1a90053968d0",
        "colab": {
          "base_uri": "https://localhost:8080/"
        }
      },
      "execution_count": 27,
      "outputs": [
        {
          "output_type": "stream",
          "name": "stdout",
          "text": [
            "bonito\n",
            "feo\n"
          ]
        }
      ]
    },
    {
      "cell_type": "code",
      "source": [
        "dicc_cuadrado={'1':1, '2':4, '3':9, '4':16}\n",
        "print(dicc_cuadrado)\n",
        "\n",
        "diccuadrado={i:i**2 for i in listanum }\n",
        "print(diccuadrado)\n"
      ],
      "metadata": {
        "id": "J8F4Ah7A5K3g",
        "outputId": "f5aabd9f-a2bf-4dd4-f4a8-dc8a971f019f",
        "colab": {
          "base_uri": "https://localhost:8080/"
        }
      },
      "execution_count": 28,
      "outputs": [
        {
          "output_type": "stream",
          "name": "stdout",
          "text": [
            "{'1': 1, '2': 4, '3': 9, '4': 16}\n",
            "{0: 0, 1: 1, 2: 4, 3: 9, 4: 16, 5: 25, 6: 36, 7: 49, 8: 64, 9: 81, 10: 100, 11: 121, 12: 144, 13: 169, 14: 196, 15: 225, 16: 256, 17: 289, 18: 324, 19: 361}\n"
          ]
        }
      ]
    },
    {
      "cell_type": "markdown",
      "source": [
        "Contendor **SET**"
      ],
      "metadata": {
        "id": "a3HMcqTh6cZx"
      }
    },
    {
      "cell_type": "code",
      "source": [
        "setElementos={1,2,3,4,5,6,7,8,9,10}\n",
        "print(setElementos)"
      ],
      "metadata": {
        "id": "XuZ15Rej6g0y",
        "outputId": "fa692f26-24f8-494c-e0b6-9b56001e0444",
        "colab": {
          "base_uri": "https://localhost:8080/"
        }
      },
      "execution_count": 29,
      "outputs": [
        {
          "output_type": "stream",
          "name": "stdout",
          "text": [
            "{1, 2, 3, 4, 5, 6, 7, 8, 9, 10}\n"
          ]
        }
      ]
    },
    {
      "cell_type": "code",
      "source": [
        "print(6 in setElementos)"
      ],
      "metadata": {
        "id": "2FZ1Sgjq62Xw",
        "outputId": "aef3196a-fb64-45c9-dec5-816379cf7292",
        "colab": {
          "base_uri": "https://localhost:8080/"
        }
      },
      "execution_count": 30,
      "outputs": [
        {
          "output_type": "stream",
          "name": "stdout",
          "text": [
            "True\n"
          ]
        }
      ]
    },
    {
      "cell_type": "code",
      "source": [
        "print(6 in setElementos)\n",
        "setElementos.add(11)\n",
        "print(setElementos)\n",
        "setElementos.remove(11)\n",
        "print(setElementos)\n",
        "print(len(setElementos))"
      ],
      "metadata": {
        "id": "aC48cJHJ7JTh",
        "outputId": "a890fd47-021a-4860-8816-aa77de3c66cd",
        "colab": {
          "base_uri": "https://localhost:8080/"
        }
      },
      "execution_count": 35,
      "outputs": [
        {
          "output_type": "stream",
          "name": "stdout",
          "text": [
            "True\n",
            "{1, 2, 3, 4, 5, 6, 7, 8, 9, 10, 11}\n",
            "{1, 2, 3, 4, 5, 6, 7, 8, 9, 10}\n",
            "10\n"
          ]
        }
      ]
    },
    {
      "cell_type": "code",
      "source": [
        "setElemento={'caballo','elefante','leon','gato','perro'}\n",
        "print(setElemento)\n",
        "print('oveja' in setElemento)\n",
        "#añade elemento\n",
        "setElemento.add('tigre')\n",
        "print(setElemento)\n",
        "#Borra elemento\n",
        "#setElementos.remove(11)\n",
        "#muestra elemento\n",
        "print(setElemento)\n",
        "# Muestra la cantidad de elementos\n",
        "print(len(setElemento))"
      ],
      "metadata": {
        "id": "JHV5CxTO7cW5",
        "outputId": "d923056d-76bd-4c30-8e02-220e4390fd83",
        "colab": {
          "base_uri": "https://localhost:8080/"
        }
      },
      "execution_count": 39,
      "outputs": [
        {
          "output_type": "stream",
          "name": "stdout",
          "text": [
            "{'leon', 'elefante', 'perro', 'caballo', 'gato'}\n",
            "False\n",
            "{'leon', 'elefante', 'perro', 'caballo', 'gato', 'tigre'}\n",
            "{'leon', 'elefante', 'perro', 'caballo', 'gato', 'tigre'}\n",
            "6\n"
          ]
        }
      ]
    },
    {
      "cell_type": "markdown",
      "source": [
        "**Funciones**"
      ],
      "metadata": {
        "id": "8Cg0H7zt81Q_"
      }
    },
    {
      "cell_type": "code",
      "source": [
        "def sum (a,b):\n",
        "  return a+b\n",
        "\n",
        "tmp1= 5\n",
        "tmp2= 9\n",
        "print('La suma de los dos valores es :',sum(tmp1,tmp2))"
      ],
      "metadata": {
        "id": "vkDxIWah83FJ",
        "outputId": "133a9145-3502-4cdf-bb5d-997da06bbc8c",
        "colab": {
          "base_uri": "https://localhost:8080/"
        }
      },
      "execution_count": 43,
      "outputs": [
        {
          "output_type": "stream",
          "name": "stdout",
          "text": [
            "La suma de los dos valores es : 14\n"
          ]
        }
      ]
    },
    {
      "cell_type": "code",
      "source": [
        "\n",
        "def es_positivo_negativo(numero):\n",
        "\n",
        "  if numero > 0:\n",
        "    return \"Positivo\"\n",
        "  elif numero < 0:\n",
        "    return \"Negativo\"\n",
        "  else:\n",
        "    return \"Cero\"\n",
        "\n",
        "# Ejemplo de uso\n",
        "numero = -1\n",
        "resultado = es_positivo_negativo(numero)\n",
        "print(f\"El número {numero} es {resultado}.\")"
      ],
      "metadata": {
        "id": "XmmyyGUR9Wkw",
        "outputId": "83925e7c-c763-4527-dd2e-0b3ebfee8a55",
        "colab": {
          "base_uri": "https://localhost:8080/"
        }
      },
      "execution_count": 49,
      "outputs": [
        {
          "output_type": "stream",
          "name": "stdout",
          "text": [
            "El número -1 es Negativo.\n"
          ]
        }
      ]
    },
    {
      "cell_type": "code",
      "source": [
        "listNumeros[-1,0,1]\n",
        "def evaluacionsigno(tmp):\n",
        "  if tmp > 0:\n",
        "    return 'el numero es positivo'\n",
        "    elif tmp < 0:\n",
        "      return ' El numero es negativo'\n",
        "      else:\n",
        "        return 'el numero es 0'\n",
        "\n",
        "for cadanumero in listNumeros:\n",
        "  print(evaluacionsigno(cadanumero))"
      ],
      "metadata": {
        "id": "SHMUdRbn-6Ft"
      },
      "execution_count": null,
      "outputs": []
    },
    {
      "cell_type": "markdown",
      "source": [
        "**Clases**"
      ],
      "metadata": {
        "id": "GbcP9fr7AMgW"
      }
    },
    {
      "cell_type": "code",
      "source": [
        "class saludos(object):\n",
        "  #constructor\n",
        "  def __init__(self,nombre):\n",
        "    self.nombre=nombre\n",
        "   # print('Se inicializa automaticamente')\n",
        "\n",
        "  # El método 'mensaje' debe estar dentro de la definición de la clase\n",
        "  def mensaje(self):\n",
        "    print('Hola', self.nombre)\n",
        "\n",
        "# Se elimina la segunda definición redundante de la clase 'saludos'\n",
        "\n",
        "\n",
        "name1=saludos('Ricardo')\n",
        "name1.mensaje()\n",
        "\n"
      ],
      "metadata": {
        "id": "d9fLlXMHALz2",
        "outputId": "c1c0b65d-18bb-4ea6-b8f7-d5a52bea2aa0",
        "colab": {
          "base_uri": "https://localhost:8080/"
        }
      },
      "execution_count": 73,
      "outputs": [
        {
          "output_type": "stream",
          "name": "stdout",
          "text": [
            "Hola Ricardo\n"
          ]
        }
      ]
    },
    {
      "cell_type": "code",
      "source": [
        "class numeros(object):\n",
        "  def __init__(self,numero1,numero2):\n",
        "    self.numero1=numero1\n",
        "    self.numero2=numero2\n",
        "  def suma(self):\n",
        "    print(self.numero1+self.numero2)\n",
        "  def resta(self):\n",
        "    print(self.numero1-self.numero2)\n",
        "  def multiplicacion(self):\n",
        "   print(self.numero1*self.numero2)\n",
        "  def division(self):\n",
        "    pass # Se agregó una instrucción 'pass' para proporcionar un cuerpo mínimo al método\n",
        "\n",
        "problema1=numeros(4,20)\n",
        "print(problema1.suma())\n"
      ],
      "metadata": {
        "id": "b7UY_OFUC4Ok",
        "outputId": "33cc46f1-dfff-4d25-8098-3a75ce91f987",
        "colab": {
          "base_uri": "https://localhost:8080/"
        }
      },
      "execution_count": 78,
      "outputs": [
        {
          "output_type": "stream",
          "name": "stdout",
          "text": [
            "24\n",
            "None\n"
          ]
        }
      ]
    }
  ]
}