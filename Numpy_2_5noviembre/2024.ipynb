{
  "nbformat": 4,
  "nbformat_minor": 0,
  "metadata": {
    "colab": {
      "provenance": [],
      "authorship_tag": "ABX9TyPWsZR/e0EADA9wPH8T1JMa",
      "include_colab_link": true
    },
    "kernelspec": {
      "name": "python3",
      "display_name": "Python 3"
    },
    "language_info": {
      "name": "python"
    }
  },
  "cells": [
    {
      "cell_type": "markdown",
      "metadata": {
        "id": "view-in-github",
        "colab_type": "text"
      },
      "source": [
        "<a href=\"https://colab.research.google.com/github/Ricardoarteaga24/InteligenciaArtificial_8vo/blob/main/Numpy_2_5noviembre/2024.ipynb\" target=\"_parent\"><img src=\"https://colab.research.google.com/assets/colab-badge.svg\" alt=\"Open In Colab\"/></a>"
      ]
    },
    {
      "cell_type": "code",
      "execution_count": 1,
      "metadata": {
        "colab": {
          "base_uri": "https://localhost:8080/"
        },
        "id": "2HGcDZyQkRzF",
        "outputId": "3618d6d5-2250-45a5-cb91-20134c5ea47d"
      },
      "outputs": [
        {
          "output_type": "stream",
          "name": "stdout",
          "text": [
            "(3, 4)\n"
          ]
        }
      ],
      "source": [
        "import numpy as np\n",
        "matrixA=np.array([[11,12,13,14],[21,22,23,24],[31,32,33,34]])\n",
        "print(matrixA.shape)\n"
      ]
    },
    {
      "cell_type": "code",
      "source": [
        "matrixA"
      ],
      "metadata": {
        "colab": {
          "base_uri": "https://localhost:8080/"
        },
        "id": "vVzAC7yRnSQh",
        "outputId": "a850b434-8a8e-4943-f66b-bcb8fc205ed7"
      },
      "execution_count": 2,
      "outputs": [
        {
          "output_type": "execute_result",
          "data": {
            "text/plain": [
              "array([[11, 12, 13, 14],\n",
              "       [21, 22, 23, 24],\n",
              "       [31, 32, 33, 34]])"
            ]
          },
          "metadata": {},
          "execution_count": 2
        }
      ]
    },
    {
      "cell_type": "code",
      "source": [
        "print(matrixA[1:,1:3])"
      ],
      "metadata": {
        "colab": {
          "base_uri": "https://localhost:8080/"
        },
        "id": "3-vMaP2tnabe",
        "outputId": "462822dc-53b9-491a-e9b1-db8e777ffb33"
      },
      "execution_count": 3,
      "outputs": [
        {
          "output_type": "stream",
          "name": "stdout",
          "text": [
            "[[22 23]\n",
            " [32 33]]\n"
          ]
        }
      ]
    },
    {
      "cell_type": "code",
      "source": [
        "# prompt: crear una matrix de 4x3 randon de numeros enteros\n",
        "\n",
        "\n",
        "matrixB = np.random.randint(0, 10, size=(4, 3))\n",
        "\n",
        "matrixB"
      ],
      "metadata": {
        "colab": {
          "base_uri": "https://localhost:8080/"
        },
        "id": "GgD8h1k0n5Yn",
        "outputId": "8adcb1a5-4b79-4f34-8742-8d614fb73a24"
      },
      "execution_count": 10,
      "outputs": [
        {
          "output_type": "execute_result",
          "data": {
            "text/plain": [
              "array([[6, 7, 3],\n",
              "       [2, 4, 1],\n",
              "       [6, 6, 5],\n",
              "       [2, 5, 7]])"
            ]
          },
          "metadata": {},
          "execution_count": 10
        }
      ]
    },
    {
      "cell_type": "code",
      "source": [
        "print(matrixB)\n",
        "col_indices=np.array([0,1,2])\n",
        "row_indices=np.array([1,2])\n",
        "\n",
        "for row,col in zip(row_indices,col_indices):\n",
        " # print(row,\"-\",col)\n",
        "  print(matrixB[row,col])\n"
      ],
      "metadata": {
        "colab": {
          "base_uri": "https://localhost:8080/"
        },
        "id": "FfPC2T78oPi_",
        "outputId": "92f1fc39-b117-4a73-8436-2d833d253db1"
      },
      "execution_count": 17,
      "outputs": [
        {
          "output_type": "stream",
          "name": "stdout",
          "text": [
            "[[6 7 3]\n",
            " [2 4 1]\n",
            " [6 6 5]\n",
            " [2 5 7]]\n",
            "2\n",
            "6\n"
          ]
        }
      ]
    },
    {
      "cell_type": "code",
      "source": [
        "mask=matrixB>5\n",
        "print(mask)"
      ],
      "metadata": {
        "id": "M_oXBmPAp8l7",
        "outputId": "d5553448-6d28-410f-b110-93b58e331173",
        "colab": {
          "base_uri": "https://localhost:8080/"
        }
      },
      "execution_count": 18,
      "outputs": [
        {
          "output_type": "stream",
          "name": "stdout",
          "text": [
            "[[ True  True False]\n",
            " [False False False]\n",
            " [ True  True False]\n",
            " [False False  True]]\n"
          ]
        }
      ]
    },
    {
      "cell_type": "code",
      "source": [
        "print(matrixB[mask])"
      ],
      "metadata": {
        "id": "MEjBE5LxqGVw",
        "outputId": "5b461eab-7959-4e49-daa2-d676f285bec9",
        "colab": {
          "base_uri": "https://localhost:8080/"
        }
      },
      "execution_count": 19,
      "outputs": [
        {
          "output_type": "stream",
          "name": "stdout",
          "text": [
            "[6 7 6 6 7]\n"
          ]
        }
      ]
    },
    {
      "cell_type": "code",
      "source": [
        "print(matrixB[matrixB>5])"
      ],
      "metadata": {
        "id": "3zkjV3ErqN50",
        "outputId": "bcc28d3f-f601-4ab5-b50d-f9a02d1c52bd",
        "colab": {
          "base_uri": "https://localhost:8080/"
        }
      },
      "execution_count": 20,
      "outputs": [
        {
          "output_type": "stream",
          "name": "stdout",
          "text": [
            "[6 7 6 6 7]\n"
          ]
        }
      ]
    },
    {
      "cell_type": "code",
      "source": [
        "matrixB_modified = np.where(matrixB % 2 == 0, matrixB + 100, matrixB)\n",
        "\n",
        "print(\"\\nMatriz B modificada:\")\n",
        "matrixB_modified"
      ],
      "metadata": {
        "id": "eOatm1fhq1-Q",
        "outputId": "6c62cecf-4937-47bf-8d87-1c39c3cd5838",
        "colab": {
          "base_uri": "https://localhost:8080/"
        }
      },
      "execution_count": 21,
      "outputs": [
        {
          "output_type": "stream",
          "name": "stdout",
          "text": [
            "\n",
            "Matriz B modificada:\n"
          ]
        },
        {
          "output_type": "execute_result",
          "data": {
            "text/plain": [
              "array([[106,   7,   3],\n",
              "       [102, 104,   1],\n",
              "       [106, 106,   5],\n",
              "       [102,   5,   7]])"
            ]
          },
          "metadata": {},
          "execution_count": 21
        }
      ]
    },
    {
      "cell_type": "code",
      "source": [
        "matrixB[matrixB % 2 == 0] += 100\n",
        "matrixB"
      ],
      "metadata": {
        "id": "08O7ABHIrTqX",
        "outputId": "3543b8ac-9bb6-431d-8ce4-591ba64490bb",
        "colab": {
          "base_uri": "https://localhost:8080/"
        }
      },
      "execution_count": 22,
      "outputs": [
        {
          "output_type": "execute_result",
          "data": {
            "text/plain": [
              "array([[106,   7,   3],\n",
              "       [102, 104,   1],\n",
              "       [106, 106,   5],\n",
              "       [102,   5,   7]])"
            ]
          },
          "metadata": {},
          "execution_count": 22
        }
      ]
    },
    {
      "cell_type": "code",
      "source": [
        "mask = (matrixB >= 3) & (matrixB <= 9)\n",
        "\n",
        "# Add 100 to the selected elements\n",
        "matrixB_modified = np.where(mask, matrixB + 100, matrixB)\n",
        "\n",
        "\n",
        "print(\"\\nMatriz B modificada:\")\n",
        "matrixB_modified"
      ],
      "metadata": {
        "id": "urGxGoI1r7M0",
        "outputId": "5050c90a-1d87-496b-9f1d-6ef0d08753aa",
        "colab": {
          "base_uri": "https://localhost:8080/"
        }
      },
      "execution_count": 24,
      "outputs": [
        {
          "output_type": "stream",
          "name": "stdout",
          "text": [
            "\n",
            "Matriz B modificada:\n"
          ]
        },
        {
          "output_type": "execute_result",
          "data": {
            "text/plain": [
              "array([[106, 107, 103],\n",
              "       [102, 104,   1],\n",
              "       [106, 106, 105],\n",
              "       [102, 105, 107]])"
            ]
          },
          "metadata": {},
          "execution_count": 24
        }
      ]
    },
    {
      "cell_type": "code",
      "source": [
        "matrixB[(matrixB>3) & (matrixB<9)] += 100\n",
        "matrixB"
      ],
      "metadata": {
        "id": "iCmIZBGYsJkQ",
        "outputId": "991cc26e-a6f5-441e-f6ac-3ce6a4cb96d4",
        "colab": {
          "base_uri": "https://localhost:8080/"
        }
      },
      "execution_count": 27,
      "outputs": [
        {
          "output_type": "execute_result",
          "data": {
            "text/plain": [
              "array([[106, 107,   3],\n",
              "       [102, 104,   1],\n",
              "       [106, 106, 105],\n",
              "       [102, 105, 107]])"
            ]
          },
          "metadata": {},
          "execution_count": 27
        }
      ]
    },
    {
      "cell_type": "code",
      "source": [
        "Filter=((matrixB>3)&(matrixB<9))\n",
        "matrixB[Filter]+=100\n",
        "print(matrixB)"
      ],
      "metadata": {
        "id": "PaqrIHR_s8S2"
      },
      "execution_count": null,
      "outputs": []
    },
    {
      "cell_type": "code",
      "source": [
        "matrixA1=np.random.randint(0,10 , size=(2,2))\n",
        "matrixA2=np.random.randint(0,10 , size=(2,2))\n"
      ],
      "metadata": {
        "id": "OR22JULQuz1d"
      },
      "execution_count": 31,
      "outputs": []
    },
    {
      "cell_type": "code",
      "source": [
        "print(matrixA1+matrixA2)\n",
        "print(matrixA1-matrixA2)\n",
        "print(matrixA1*matrixA2)\n",
        "print(matrixA1/matrixA2)\n",
        "print(np.sqrt(matrixA1))\n"
      ],
      "metadata": {
        "id": "ro9pw58MvRXB",
        "outputId": "e6c3c3bc-3e7c-46e8-9990-89e3e0b87e74",
        "colab": {
          "base_uri": "https://localhost:8080/"
        }
      },
      "execution_count": 29,
      "outputs": [
        {
          "output_type": "stream",
          "name": "stdout",
          "text": [
            "[[ 8  8]\n",
            " [14  3]]\n",
            "[[ 4  4]\n",
            " [ 0 -1]]\n",
            "[[12 12]\n",
            " [49  2]]\n",
            "[[3.  3. ]\n",
            " [1.  0.5]]\n",
            "[[2.44948974 2.44948974]\n",
            " [2.64575131 1.        ]]\n"
          ]
        }
      ]
    },
    {
      "cell_type": "code",
      "source": [
        "print(matrixA1)"
      ],
      "metadata": {
        "id": "XngtAV-Dvt6s",
        "outputId": "bab80c1b-a2f1-4b40-c91d-44a324cd7429",
        "colab": {
          "base_uri": "https://localhost:8080/"
        }
      },
      "execution_count": 32,
      "outputs": [
        {
          "output_type": "stream",
          "name": "stdout",
          "text": [
            "[[5 9]\n",
            " [7 1]]\n"
          ]
        }
      ]
    },
    {
      "cell_type": "code",
      "source": [
        "print(np.sqrt(matrixA1))"
      ],
      "metadata": {
        "id": "fKDVBgo_vxG-",
        "outputId": "a7ba63fe-dada-4ae4-d952-693ceee28616",
        "colab": {
          "base_uri": "https://localhost:8080/"
        }
      },
      "execution_count": 33,
      "outputs": [
        {
          "output_type": "stream",
          "name": "stdout",
          "text": [
            "[[2.23606798 3.        ]\n",
            " [2.64575131 1.        ]]\n"
          ]
        }
      ]
    },
    {
      "cell_type": "code",
      "source": [
        "matrixA3=np.random.randint(0,10 , size=(2,5))\n",
        "print(matrixA3)"
      ],
      "metadata": {
        "id": "5c-zFNfnv5gK",
        "outputId": "13d2f4ed-0ab7-49ed-f7f6-a226952ed7b8",
        "colab": {
          "base_uri": "https://localhost:8080/"
        }
      },
      "execution_count": 46,
      "outputs": [
        {
          "output_type": "stream",
          "name": "stdout",
          "text": [
            "[[7 8 9 3 0]\n",
            " [2 0 8 1 2]]\n"
          ]
        }
      ]
    },
    {
      "cell_type": "code",
      "source": [
        "print(np.mean(matrixA3))"
      ],
      "metadata": {
        "id": "qF2M9wTcwFWW",
        "outputId": "de5b2f5b-653f-43e5-84a9-e992b5e57b30",
        "colab": {
          "base_uri": "https://localhost:8080/"
        }
      },
      "execution_count": 35,
      "outputs": [
        {
          "output_type": "stream",
          "name": "stdout",
          "text": [
            "4.3\n"
          ]
        }
      ]
    },
    {
      "cell_type": "code",
      "source": [
        "print(matrixA3.mean(axis=1))"
      ],
      "metadata": {
        "id": "re7iOQwawPXt",
        "outputId": "87988db7-987c-48aa-8728-29e8796bb537",
        "colab": {
          "base_uri": "https://localhost:8080/"
        }
      },
      "execution_count": 37,
      "outputs": [
        {
          "output_type": "stream",
          "name": "stdout",
          "text": [
            "[6.8 3.8]\n"
          ]
        }
      ]
    },
    {
      "cell_type": "code",
      "source": [
        "print(matrixA3.mean(axis=0))"
      ],
      "metadata": {
        "id": "t8xXDw9dwgub",
        "outputId": "484061af-93c8-46d5-d8a5-39522aa9b71e",
        "colab": {
          "base_uri": "https://localhost:8080/"
        }
      },
      "execution_count": 38,
      "outputs": [
        {
          "output_type": "stream",
          "name": "stdout",
          "text": [
            "[5.5 7.  4.  3.5 6.5]\n"
          ]
        }
      ]
    },
    {
      "cell_type": "code",
      "source": [
        "print(np.std(matrixA3))"
      ],
      "metadata": {
        "id": "qRQ1V-mYwx5_",
        "outputId": "ad109ffb-d264-4d07-8740-6efbb1af236d",
        "colab": {
          "base_uri": "https://localhost:8080/"
        }
      },
      "execution_count": 39,
      "outputs": [
        {
          "output_type": "stream",
          "name": "stdout",
          "text": [
            "2.6095976701399777\n"
          ]
        }
      ]
    },
    {
      "cell_type": "code",
      "source": [
        "print(np.median(matrixA3))"
      ],
      "metadata": {
        "id": "Fh2pWH4Nw7Bb",
        "outputId": "9c427dce-88c5-4fa4-a106-cef5ed37f47f",
        "colab": {
          "base_uri": "https://localhost:8080/"
        }
      },
      "execution_count": 41,
      "outputs": [
        {
          "output_type": "stream",
          "name": "stdout",
          "text": [
            "6.0\n"
          ]
        }
      ]
    },
    {
      "cell_type": "code",
      "source": [
        "print(matrixA3.sum())"
      ],
      "metadata": {
        "id": "dYwUQ53oxB7r",
        "outputId": "1c8199b8-a03e-4859-f6d4-5da84c04be2d",
        "colab": {
          "base_uri": "https://localhost:8080/"
        }
      },
      "execution_count": 43,
      "outputs": [
        {
          "output_type": "stream",
          "name": "stdout",
          "text": [
            "53\n"
          ]
        }
      ]
    },
    {
      "cell_type": "code",
      "source": [
        "print(matrixA3.max())"
      ],
      "metadata": {
        "id": "buJy7CvSxByy",
        "outputId": "32182c65-da6f-4da7-81e4-a9ef3515d9c1",
        "colab": {
          "base_uri": "https://localhost:8080/"
        }
      },
      "execution_count": 44,
      "outputs": [
        {
          "output_type": "stream",
          "name": "stdout",
          "text": [
            "8\n"
          ]
        }
      ]
    },
    {
      "cell_type": "code",
      "source": [
        "start=np.zeros((4,3))\n",
        "print(start)"
      ],
      "metadata": {
        "id": "TQLJgKdJyCgz",
        "outputId": "44e902b7-33af-4be9-9f64-f93ae5bf5974",
        "colab": {
          "base_uri": "https://localhost:8080/"
        }
      },
      "execution_count": 48,
      "outputs": [
        {
          "output_type": "stream",
          "name": "stdout",
          "text": [
            "[[0. 0. 0.]\n",
            " [0. 0. 0.]\n",
            " [0. 0. 0.]\n",
            " [0. 0. 0.]]\n"
          ]
        }
      ]
    },
    {
      "cell_type": "code",
      "source": [
        "add_rows=np.array([1,2,3])\n",
        "print(add_rows.shape)"
      ],
      "metadata": {
        "id": "7C9wX4PTyLHB",
        "outputId": "0f517e3a-a98b-44e5-fb5d-218424c7d599",
        "colab": {
          "base_uri": "https://localhost:8080/"
        }
      },
      "execution_count": 47,
      "outputs": [
        {
          "output_type": "stream",
          "name": "stdout",
          "text": [
            "(3,)\n"
          ]
        }
      ]
    },
    {
      "cell_type": "code",
      "source": [
        "y=start+add_rows\n",
        "print(y)"
      ],
      "metadata": {
        "id": "pIeCmhQ3yalZ",
        "outputId": "6d96cca2-7932-4d6d-84c2-d9eacabfdcaa",
        "colab": {
          "base_uri": "https://localhost:8080/"
        }
      },
      "execution_count": 49,
      "outputs": [
        {
          "output_type": "stream",
          "name": "stdout",
          "text": [
            "[[1. 2. 3.]\n",
            " [1. 2. 3.]\n",
            " [1. 2. 3.]\n",
            " [1. 2. 3.]]\n"
          ]
        }
      ]
    },
    {
      "cell_type": "code",
      "source": [
        "print(start)"
      ],
      "metadata": {
        "id": "1ro2UJmRykOR",
        "outputId": "034cbd38-b331-4a28-881e-1d6b7c46d295",
        "colab": {
          "base_uri": "https://localhost:8080/"
        }
      },
      "execution_count": 50,
      "outputs": [
        {
          "output_type": "stream",
          "name": "stdout",
          "text": [
            "[[0. 0. 0.]\n",
            " [0. 0. 0.]\n",
            " [0. 0. 0.]\n",
            " [0. 0. 0.]]\n"
          ]
        }
      ]
    },
    {
      "cell_type": "code",
      "source": [
        "col_rows=np.array([1,2,3,4])"
      ],
      "metadata": {
        "id": "-1JhCaYw0XfY"
      },
      "execution_count": 58,
      "outputs": []
    },
    {
      "cell_type": "code",
      "source": [
        "print(start)\n",
        "tmp=col_rows.T\n",
        "y2=start+tmp\n",
        "print(y2)"
      ],
      "metadata": {
        "id": "QfzpUnjb1Syi"
      },
      "execution_count": null,
      "outputs": []
    },
    {
      "cell_type": "code",
      "source": [
        "tmp1=np.array([[1,1],[2,2]])\n",
        "tmp2=np.array([[3,3],[4,4]])\n",
        "print(tmp1)\n",
        "print(tmp2)"
      ],
      "metadata": {
        "id": "3wZ1oT4T1ijO",
        "outputId": "db222ec8-0260-4b5c-8093-38c3cf769ca0",
        "colab": {
          "base_uri": "https://localhost:8080/"
        }
      },
      "execution_count": 59,
      "outputs": [
        {
          "output_type": "stream",
          "name": "stdout",
          "text": [
            "[[1 1]\n",
            " [2 2]]\n",
            "[[3 3]\n",
            " [4 4]]\n"
          ]
        }
      ]
    },
    {
      "cell_type": "code",
      "source": [
        "print(np.dot(tmp1,tmp2))"
      ],
      "metadata": {
        "id": "YbdKRIWh19Gq"
      },
      "execution_count": null,
      "outputs": []
    },
    {
      "cell_type": "code",
      "source": [
        "\n",
        "matrix1 = np.random.randint(2, 51, size=(2, 2))\n",
        "matrix2 = np.random.randint(2, 51, size=(2, 2))\n",
        "\n",
        "print(\"Matrix 1:\")\n",
        "print(matrix1)\n",
        "print(\"\\nMatrix 2:\")\n",
        "matrix2"
      ],
      "metadata": {
        "id": "m1tAX6jh2D0c",
        "outputId": "91ec77fc-3caf-4186-f0a6-c14c111ec08d",
        "colab": {
          "base_uri": "https://localhost:8080/"
        }
      },
      "execution_count": 60,
      "outputs": [
        {
          "output_type": "stream",
          "name": "stdout",
          "text": [
            "Matrix 1:\n",
            "[[25 32]\n",
            " [35 16]]\n",
            "\n",
            "Matrix 2:\n"
          ]
        },
        {
          "output_type": "execute_result",
          "data": {
            "text/plain": [
              "array([[ 7,  9],\n",
              "       [ 9, 23]])"
            ]
          },
          "metadata": {},
          "execution_count": 60
        }
      ]
    },
    {
      "cell_type": "code",
      "source": [
        "np.vstack((matrix1,matrix2))"
      ],
      "metadata": {
        "id": "yrvA2buN2alC",
        "outputId": "4ceb2bbd-74b1-41e5-c1bf-dd360368f539",
        "colab": {
          "base_uri": "https://localhost:8080/"
        }
      },
      "execution_count": 62,
      "outputs": [
        {
          "output_type": "execute_result",
          "data": {
            "text/plain": [
              "array([[25, 32],\n",
              "       [35, 16],\n",
              "       [ 7,  9],\n",
              "       [ 9, 23]])"
            ]
          },
          "metadata": {},
          "execution_count": 62
        }
      ]
    },
    {
      "cell_type": "code",
      "source": [
        "np.hstack((matrix1,matrix2))"
      ],
      "metadata": {
        "id": "_x3K91cO2aQd",
        "outputId": "a2ce7224-5559-4d00-974b-ed5689109195",
        "colab": {
          "base_uri": "https://localhost:8080/"
        }
      },
      "execution_count": 63,
      "outputs": [
        {
          "output_type": "execute_result",
          "data": {
            "text/plain": [
              "array([[25, 32,  7,  9],\n",
              "       [35, 16,  9, 23]])"
            ]
          },
          "metadata": {},
          "execution_count": 63
        }
      ]
    }
  ]
}