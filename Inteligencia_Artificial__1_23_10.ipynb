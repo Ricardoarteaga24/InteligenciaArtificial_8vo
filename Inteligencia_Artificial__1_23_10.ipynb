{
  "nbformat": 4,
  "nbformat_minor": 0,
  "metadata": {
    "colab": {
      "provenance": [],
      "authorship_tag": "ABX9TyMoCTYlHGpbSefksxCsHcCX",
      "include_colab_link": true
    },
    "kernelspec": {
      "name": "python3",
      "display_name": "Python 3"
    },
    "language_info": {
      "name": "python"
    }
  },
  "cells": [
    {
      "cell_type": "markdown",
      "metadata": {
        "id": "view-in-github",
        "colab_type": "text"
      },
      "source": [
        "<a href=\"https://colab.research.google.com/github/Ricardoarteaga24/InteligenciaArtificial_8vo/blob/main/Inteligencia_Artificial__1_23_10.ipynb\" target=\"_parent\"><img src=\"https://colab.research.google.com/assets/colab-badge.svg\" alt=\"Open In Colab\"/></a>"
      ]
    },
    {
      "cell_type": "code",
      "source": [
        "# prompt: consultar la version de python\n",
        "\n",
        "import sys\n",
        "sys.version"
      ],
      "metadata": {
        "colab": {
          "base_uri": "https://localhost:8080/",
          "height": 35
        },
        "id": "puxfjo9Pr1tV",
        "outputId": "dc16859f-0b8e-4651-a348-c3d37402409c"
      },
      "execution_count": 3,
      "outputs": [
        {
          "output_type": "execute_result",
          "data": {
            "text/plain": [
              "'3.10.12 (main, Sep 11 2024, 15:47:36) [GCC 11.4.0]'"
            ],
            "application/vnd.google.colaboratory.intrinsic+json": {
              "type": "string"
            }
          },
          "metadata": {},
          "execution_count": 3
        }
      ]
    },
    {
      "cell_type": "code",
      "source": [
        "numero=10\n",
        "tmp1=\"Ricardo Arteaga\"\n",
        "print(numero)\n",
        "print(f\"Mi nombre es {tmp1}\")\n",
        "print(numero+10)\n",
        "print(numero-10)\n",
        "print(numero*10)\n",
        "print(numero/10)\n",
        "print(numero%10)\n",
        "print(numero**2)\n",
        "# otra forma de realizar operaciones\n",
        "numero*=2\n",
        "print(numero)\n",
        "#funciones de ver que tipo de variables tenemos\n",
        "print(type(numero))\n",
        "print(type(tmp1))"
      ],
      "metadata": {
        "colab": {
          "base_uri": "https://localhost:8080/"
        },
        "id": "M8gUuc1hsb5e",
        "outputId": "12899c7b-6c10-4659-ba64-4c278d1662aa"
      },
      "execution_count": 10,
      "outputs": [
        {
          "output_type": "stream",
          "name": "stdout",
          "text": [
            "10\n",
            "Mi nombre es Ricardo Arteaga\n",
            "20\n",
            "0\n",
            "100\n",
            "1.0\n",
            "0\n",
            "100\n",
            "20\n",
            "<class 'int'>\n",
            "<class 'str'>\n"
          ]
        }
      ]
    },
    {
      "cell_type": "markdown",
      "source": [
        "Boleanos"
      ],
      "metadata": {
        "id": "_qfL2579weRG"
      }
    },
    {
      "cell_type": "code",
      "source": [
        "#boleanos\n",
        "t=True\n",
        "f=False\n",
        "print(type(t))\n",
        "print(t and f)\n",
        "print(t or f)\n",
        "print(not t)\n",
        "print(t!=f)"
      ],
      "metadata": {
        "colab": {
          "base_uri": "https://localhost:8080/"
        },
        "id": "Y5BpAavztcmH",
        "outputId": "2d44eff9-b33a-475b-bd54-79228a5f696a"
      },
      "execution_count": 13,
      "outputs": [
        {
          "output_type": "stream",
          "name": "stdout",
          "text": [
            "<class 'bool'>\n",
            "False\n",
            "True\n",
            "False\n",
            "True\n"
          ]
        }
      ]
    },
    {
      "cell_type": "markdown",
      "source": [
        "cadena de caracteres"
      ],
      "metadata": {
        "id": "4Ku7r9GJwgMW"
      }
    },
    {
      "cell_type": "code",
      "source": [
        "aux1=\"Hola\"\n",
        "aux2=\"Mundo\"\n",
        "aux3= \"RICARDO\"\n",
        "print(aux1+aux2)\n",
        "print(aux1*2)\n",
        "print(aux1.capitalize())\n",
        "print(aux1.upper())\n",
        "print(aux3.lower())\n",
        "# print(aux1.replace(\"H\",\"J\"\n"
      ],
      "metadata": {
        "colab": {
          "base_uri": "https://localhost:8080/"
        },
        "id": "WiNCYqhRwiej",
        "outputId": "56c3b964-7999-4262-d250-73790f022772"
      },
      "execution_count": 19,
      "outputs": [
        {
          "output_type": "stream",
          "name": "stdout",
          "text": [
            "HolaMundo\n",
            "HolaHola\n",
            "Hola\n",
            "HOLA\n",
            "ricardo\n"
          ]
        }
      ]
    },
    {
      "cell_type": "markdown",
      "source": [
        "Contenedores"
      ],
      "metadata": {
        "id": "05FlTMeExxed"
      }
    },
    {
      "cell_type": "code",
      "source": [
        "# Lista\n",
        "aux2=list()\n",
        "aux2.append(10)\n",
        "aux2.append(\"Ricardo\")\n",
        "aux2.append(True)\n",
        "print(aux2)\n",
        "#Extraer elemento\n",
        "print(aux2[1])\n",
        "#Extraer ultimo elemento\n",
        "print(aux2[-1])\n",
        "#cambiar dato\n",
        "\n",
        "aux2[1]=\"Arteaga\"\n",
        "print(aux2)\n",
        "\n",
        "#otra forma de crear lista\n",
        "aux3=[1,2,3,'Victor',True,False]\n",
        "print(aux3)\n",
        "aux3.pop()\n",
        "print(aux3)\n"
      ],
      "metadata": {
        "colab": {
          "base_uri": "https://localhost:8080/"
        },
        "id": "5w9B_C7Fxzvw",
        "outputId": "ae86a36b-3fdf-4b17-a371-7a4f018f33b7"
      },
      "execution_count": 26,
      "outputs": [
        {
          "output_type": "stream",
          "name": "stdout",
          "text": [
            "[10, 'Ricardo', True]\n",
            "Ricardo\n",
            "True\n",
            "[10, 'Arteaga', True]\n",
            "[1, 2, 3, 'Victor', True, False]\n",
            "[1, 2, 3, 'Victor', True]\n"
          ]
        }
      ]
    },
    {
      "cell_type": "markdown",
      "source": [
        "rango de listas"
      ],
      "metadata": {
        "id": "UoZmRwVo07Kk"
      }
    },
    {
      "cell_type": "code",
      "source": [
        "tmp1=list(range(100))\n",
        "for x in tmp1:\n",
        "    print(f\"el valor es\",x)"
      ],
      "metadata": {
        "colab": {
          "base_uri": "https://localhost:8080/"
        },
        "id": "MxIeMQ410Z5A",
        "outputId": "91529181-2afd-4586-ed28-5622b5fc337b"
      },
      "execution_count": 28,
      "outputs": [
        {
          "output_type": "stream",
          "name": "stdout",
          "text": [
            "el valor es 0\n",
            "el valor es 1\n",
            "el valor es 2\n",
            "el valor es 3\n",
            "el valor es 4\n",
            "el valor es 5\n",
            "el valor es 6\n",
            "el valor es 7\n",
            "el valor es 8\n",
            "el valor es 9\n",
            "el valor es 10\n",
            "el valor es 11\n",
            "el valor es 12\n",
            "el valor es 13\n",
            "el valor es 14\n",
            "el valor es 15\n",
            "el valor es 16\n",
            "el valor es 17\n",
            "el valor es 18\n",
            "el valor es 19\n",
            "el valor es 20\n",
            "el valor es 21\n",
            "el valor es 22\n",
            "el valor es 23\n",
            "el valor es 24\n",
            "el valor es 25\n",
            "el valor es 26\n",
            "el valor es 27\n",
            "el valor es 28\n",
            "el valor es 29\n",
            "el valor es 30\n",
            "el valor es 31\n",
            "el valor es 32\n",
            "el valor es 33\n",
            "el valor es 34\n",
            "el valor es 35\n",
            "el valor es 36\n",
            "el valor es 37\n",
            "el valor es 38\n",
            "el valor es 39\n",
            "el valor es 40\n",
            "el valor es 41\n",
            "el valor es 42\n",
            "el valor es 43\n",
            "el valor es 44\n",
            "el valor es 45\n",
            "el valor es 46\n",
            "el valor es 47\n",
            "el valor es 48\n",
            "el valor es 49\n",
            "el valor es 50\n",
            "el valor es 51\n",
            "el valor es 52\n",
            "el valor es 53\n",
            "el valor es 54\n",
            "el valor es 55\n",
            "el valor es 56\n",
            "el valor es 57\n",
            "el valor es 58\n",
            "el valor es 59\n",
            "el valor es 60\n",
            "el valor es 61\n",
            "el valor es 62\n",
            "el valor es 63\n",
            "el valor es 64\n",
            "el valor es 65\n",
            "el valor es 66\n",
            "el valor es 67\n",
            "el valor es 68\n",
            "el valor es 69\n",
            "el valor es 70\n",
            "el valor es 71\n",
            "el valor es 72\n",
            "el valor es 73\n",
            "el valor es 74\n",
            "el valor es 75\n",
            "el valor es 76\n",
            "el valor es 77\n",
            "el valor es 78\n",
            "el valor es 79\n",
            "el valor es 80\n",
            "el valor es 81\n",
            "el valor es 82\n",
            "el valor es 83\n",
            "el valor es 84\n",
            "el valor es 85\n",
            "el valor es 86\n",
            "el valor es 87\n",
            "el valor es 88\n",
            "el valor es 89\n",
            "el valor es 90\n",
            "el valor es 91\n",
            "el valor es 92\n",
            "el valor es 93\n",
            "el valor es 94\n",
            "el valor es 95\n",
            "el valor es 96\n",
            "el valor es 97\n",
            "el valor es 98\n",
            "el valor es 99\n"
          ]
        }
      ]
    }
  ]
}